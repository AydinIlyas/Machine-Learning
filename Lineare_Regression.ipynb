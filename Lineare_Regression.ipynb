{
 "cells": [
  {
   "cell_type": "code",
   "execution_count": 1,
   "id": "719779ab",
   "metadata": {
    "_cell_guid": "b1076dfc-b9ad-4769-8c92-a6c4dae69d19",
    "_uuid": "8f2839f25d086af736a60e9eeb907d3b93b6e0e5",
    "execution": {
     "iopub.execute_input": "2023-03-02T09:21:49.424016Z",
     "iopub.status.busy": "2023-03-02T09:21:49.423351Z",
     "iopub.status.idle": "2023-03-02T09:21:49.444413Z",
     "shell.execute_reply": "2023-03-02T09:21:49.443075Z"
    },
    "papermill": {
     "duration": 0.030637,
     "end_time": "2023-03-02T09:21:49.447097",
     "exception": false,
     "start_time": "2023-03-02T09:21:49.416460",
     "status": "completed"
    },
    "tags": []
   },
   "outputs": [
    {
     "name": "stdout",
     "output_type": "stream",
     "text": [
      "/kaggle/input/random-linear-regression/train.csv\n",
      "/kaggle/input/random-linear-regression/test.csv\n"
     ]
    }
   ],
   "source": [
    "# This Python 3 environment comes with many helpful analytics libraries installed\n",
    "# It is defined by the kaggle/python Docker image: https://github.com/kaggle/docker-python\n",
    "# For example, here's several helpful packages to load\n",
    "\n",
    "import numpy as np # linear algebra\n",
    "import pandas as pd # data processing, CSV file I/O (e.g. pd.read_csv)\n",
    "\n",
    "# Input data files are available in the read-only \"../input/\" directory\n",
    "# For example, running this (by clicking run or pressing Shift+Enter) will list all files under the input directory\n",
    "\n",
    "import os\n",
    "for dirname, _, filenames in os.walk('/kaggle/input'):\n",
    "    for filename in filenames:\n",
    "        print(os.path.join(dirname, filename))\n",
    "\n",
    "# You can write up to 20GB to the current directory (/kaggle/working/) that gets preserved as output when you create a version using \"Save & Run All\" \n",
    "# You can also write temporary files to /kaggle/temp/, but they won't be saved outside of the current session"
   ]
  },
  {
   "cell_type": "code",
   "execution_count": 2,
   "id": "7828dcfc",
   "metadata": {
    "execution": {
     "iopub.execute_input": "2023-03-02T09:21:49.458079Z",
     "iopub.status.busy": "2023-03-02T09:21:49.457708Z",
     "iopub.status.idle": "2023-03-02T09:21:49.478694Z",
     "shell.execute_reply": "2023-03-02T09:21:49.477541Z"
    },
    "papermill": {
     "duration": 0.028797,
     "end_time": "2023-03-02T09:21:49.480708",
     "exception": false,
     "start_time": "2023-03-02T09:21:49.451911",
     "status": "completed"
    },
    "tags": []
   },
   "outputs": [
    {
     "data": {
      "text/plain": [
       "(700, 2)"
      ]
     },
     "execution_count": 2,
     "metadata": {},
     "output_type": "execute_result"
    }
   ],
   "source": [
    "import pandas as pd\n",
    "train_data=pd.read_csv('/kaggle/input/random-linear-regression/train.csv',sep=',')\n",
    "train_data.shape"
   ]
  },
  {
   "cell_type": "code",
   "execution_count": 3,
   "id": "b471d0c8",
   "metadata": {
    "execution": {
     "iopub.execute_input": "2023-03-02T09:21:49.491594Z",
     "iopub.status.busy": "2023-03-02T09:21:49.490966Z",
     "iopub.status.idle": "2023-03-02T09:21:50.796220Z",
     "shell.execute_reply": "2023-03-02T09:21:50.794836Z"
    },
    "papermill": {
     "duration": 1.313407,
     "end_time": "2023-03-02T09:21:50.798704",
     "exception": false,
     "start_time": "2023-03-02T09:21:49.485297",
     "status": "completed"
    },
    "tags": []
   },
   "outputs": [
    {
     "name": "stdout",
     "output_type": "stream",
     "text": [
      "the shape of x_train: (700,)\n",
      "the shape of y_train: (700,)\n"
     ]
    }
   ],
   "source": [
    "import pandas as pd\n",
    "original_data=pd.read_csv('/kaggle/input/random-linear-regression/train.csv',sep=',')\n",
    "from sklearn.impute import SimpleImputer\n",
    "my_imputer = SimpleImputer()\n",
    "data = my_imputer.fit_transform(original_data)\n",
    "x_train=data[:,0]\n",
    "y_train=data[:,1]\n",
    "print(f'the shape of x_train: {x_train.shape}')\n",
    "print(f'the shape of y_train: {y_train.shape}')"
   ]
  },
  {
   "cell_type": "code",
   "execution_count": 4,
   "id": "b339c8b8",
   "metadata": {
    "execution": {
     "iopub.execute_input": "2023-03-02T09:21:50.810320Z",
     "iopub.status.busy": "2023-03-02T09:21:50.809916Z",
     "iopub.status.idle": "2023-03-02T09:21:50.814437Z",
     "shell.execute_reply": "2023-03-02T09:21:50.813542Z"
    },
    "papermill": {
     "duration": 0.013337,
     "end_time": "2023-03-02T09:21:50.816947",
     "exception": false,
     "start_time": "2023-03-02T09:21:50.803610",
     "status": "completed"
    },
    "tags": []
   },
   "outputs": [],
   "source": [
    "x_train = np.expand_dims(x_train, axis=1)\n",
    "y_train = np.expand_dims(y_train, axis=1)"
   ]
  },
  {
   "cell_type": "code",
   "execution_count": 5,
   "id": "a09e4b2c",
   "metadata": {
    "execution": {
     "iopub.execute_input": "2023-03-02T09:21:50.828280Z",
     "iopub.status.busy": "2023-03-02T09:21:50.827899Z",
     "iopub.status.idle": "2023-03-02T09:21:50.987660Z",
     "shell.execute_reply": "2023-03-02T09:21:50.986546Z"
    },
    "papermill": {
     "duration": 0.168246,
     "end_time": "2023-03-02T09:21:50.990134",
     "exception": false,
     "start_time": "2023-03-02T09:21:50.821888",
     "status": "completed"
    },
    "tags": []
   },
   "outputs": [
    {
     "data": {
      "text/plain": [
       "(0.0, 120.0)"
      ]
     },
     "execution_count": 5,
     "metadata": {},
     "output_type": "execute_result"
    },
    {
     "data": {
      "image/png": "[encoded data removed]",
      "text/plain": [
       "<Figure size 432x288 with 1 Axes>"
      ]
     },
     "metadata": {
      "needs_background": "light"
     },
     "output_type": "display_data"
    }
   ],
   "source": [
    "import matplotlib.pyplot as plt\n",
    "plt.scatter(x_train,y_train,color='r',vmax=100)\n",
    "plt.xlim(0,120)\n",
    "plt.ylim(0,120)"
   ]
  },
  {
   "cell_type": "code",
   "execution_count": 6,
   "id": "41a5aed9",
   "metadata": {
    "execution": {
     "iopub.execute_input": "2023-03-02T09:21:51.001942Z",
     "iopub.status.busy": "2023-03-02T09:21:51.001561Z",
     "iopub.status.idle": "2023-03-02T09:21:51.006622Z",
     "shell.execute_reply": "2023-03-02T09:21:51.005972Z"
    },
    "papermill": {
     "duration": 0.013051,
     "end_time": "2023-03-02T09:21:51.008395",
     "exception": false,
     "start_time": "2023-03-02T09:21:50.995344",
     "status": "completed"
    },
    "tags": []
   },
   "outputs": [],
   "source": [
    "from sklearn.linear_model import LinearRegression\n",
    "from sklearn.preprocessing import StandardScaler, PolynomialFeatures\n",
    "from sklearn.metrics import mean_squared_error"
   ]
  },
  {
   "cell_type": "code",
   "execution_count": 7,
   "id": "fc66e057",
   "metadata": {
    "execution": {
     "iopub.execute_input": "2023-03-02T09:21:51.020495Z",
     "iopub.status.busy": "2023-03-02T09:21:51.019438Z",
     "iopub.status.idle": "2023-03-02T09:21:51.026867Z",
     "shell.execute_reply": "2023-03-02T09:21:51.025725Z"
    },
    "papermill": {
     "duration": 0.01524,
     "end_time": "2023-03-02T09:21:51.028819",
     "exception": false,
     "start_time": "2023-03-02T09:21:51.013579",
     "status": "completed"
    },
    "tags": []
   },
   "outputs": [
    {
     "name": "stdout",
     "output_type": "stream",
     "text": [
      "Computed mean of the training set: 54.99\n",
      "Computed standard deviation of the training set: 134.59\n"
     ]
    }
   ],
   "source": [
    "scaler_linear = StandardScaler()\n",
    "X_train_scaled = scaler_linear.fit_transform(x_train)\n",
    "print(f\"Computed mean of the training set: {scaler_linear.mean_.squeeze():.2f}\")\n",
    "print(f\"Computed standard deviation of the training set: {scaler_linear.scale_.squeeze():.2f}\")"
   ]
  },
  {
   "cell_type": "code",
   "execution_count": 8,
   "id": "b25499ad",
   "metadata": {
    "execution": {
     "iopub.execute_input": "2023-03-02T09:21:51.040273Z",
     "iopub.status.busy": "2023-03-02T09:21:51.039599Z",
     "iopub.status.idle": "2023-03-02T09:21:51.167475Z",
     "shell.execute_reply": "2023-03-02T09:21:51.166722Z"
    },
    "papermill": {
     "duration": 0.135811,
     "end_time": "2023-03-02T09:21:51.169614",
     "exception": false,
     "start_time": "2023-03-02T09:21:51.033803",
     "status": "completed"
    },
    "tags": []
   },
   "outputs": [
    {
     "data": {
      "text/plain": [
       "(0.0, 120.0)"
      ]
     },
     "execution_count": 8,
     "metadata": {},
     "output_type": "execute_result"
    },
    {
     "data": {
      "image/png": "[encoded data removed]",
      "text/plain": [
       "<Figure size 432x288 with 1 Axes>"
      ]
     },
     "metadata": {
      "needs_background": "light"
     },
     "output_type": "display_data"
    }
   ],
   "source": [
    "plt.scatter(X_train_scaled,y_train,color='r',vmax=100)\n",
    "plt.xlim(-0.5,0.5)\n",
    "plt.ylim(0,120)"
   ]
  },
  {
   "cell_type": "code",
   "execution_count": 9,
   "id": "729cef75",
   "metadata": {
    "execution": {
     "iopub.execute_input": "2023-03-02T09:21:51.183677Z",
     "iopub.status.busy": "2023-03-02T09:21:51.183130Z",
     "iopub.status.idle": "2023-03-02T09:21:51.202977Z",
     "shell.execute_reply": "2023-03-02T09:21:51.202286Z"
    },
    "papermill": {
     "duration": 0.029318,
     "end_time": "2023-03-02T09:21:51.205692",
     "exception": false,
     "start_time": "2023-03-02T09:21:51.176374",
     "status": "completed"
    },
    "tags": []
   },
   "outputs": [
    {
     "name": "stdout",
     "output_type": "stream",
     "text": [
      "training MSE (using sklearn function): 403.14636166157965\n"
     ]
    }
   ],
   "source": [
    "# Initialize the class\n",
    "linear_model = LinearRegression()\n",
    "\n",
    "# Train the model\n",
    "linear_model.fit(X_train_scaled, y_train )\n",
    "# Feed the scaled training set and get the predictions\n",
    "yhat = linear_model.predict(X_train_scaled)\n",
    "\n",
    "# Use scikit-learn's utility function and divide by 2\n",
    "print(f\"training MSE (using sklearn function): {mean_squared_error(y_train, yhat) / 2}\")"
   ]
  },
  {
   "cell_type": "code",
   "execution_count": 10,
   "id": "77d0719d",
   "metadata": {
    "execution": {
     "iopub.execute_input": "2023-03-02T09:21:51.219502Z",
     "iopub.status.busy": "2023-03-02T09:21:51.219151Z",
     "iopub.status.idle": "2023-03-02T09:21:51.359593Z",
     "shell.execute_reply": "2023-03-02T09:21:51.358436Z"
    },
    "papermill": {
     "duration": 0.149998,
     "end_time": "2023-03-02T09:21:51.362214",
     "exception": false,
     "start_time": "2023-03-02T09:21:51.212216",
     "status": "completed"
    },
    "tags": []
   },
   "outputs": [
    {
     "data": {
      "text/plain": [
       "[<matplotlib.lines.Line2D at 0x7f0d0d3478d0>]"
      ]
     },
     "execution_count": 10,
     "metadata": {},
     "output_type": "execute_result"
    },
    {
     "data": {
      "image/png": "[encoded data removed]",
      "text/plain": [
       "<Figure size 432x288 with 1 Axes>"
      ]
     },
     "metadata": {
      "needs_background": "light"
     },
     "output_type": "display_data"
    }
   ],
   "source": [
    "plt.scatter(x_train,y_train,color='r',vmax=100)\n",
    "plt.xlim(0,120)\n",
    "plt.ylim(0,120)\n",
    "plt.plot(x_train,yhat)"
   ]
  },
  {
   "cell_type": "code",
   "execution_count": 11,
   "id": "eaa42aa8",
   "metadata": {
    "execution": {
     "iopub.execute_input": "2023-03-02T09:21:51.376463Z",
     "iopub.status.busy": "2023-03-02T09:21:51.376111Z",
     "iopub.status.idle": "2023-03-02T09:21:51.393853Z",
     "shell.execute_reply": "2023-03-02T09:21:51.392663Z"
    },
    "papermill": {
     "duration": 0.027118,
     "end_time": "2023-03-02T09:21:51.396113",
     "exception": false,
     "start_time": "2023-03-02T09:21:51.368995",
     "status": "completed"
    },
    "tags": []
   },
   "outputs": [],
   "source": [
    "test_data=pd.read_csv('/kaggle/input/random-linear-regression/test.csv',sep=',')\n",
    "test_data = my_imputer.fit_transform(test_data)\n",
    "x_test=test_data[:,0]\n",
    "y_test=test_data[:,1]"
   ]
  },
  {
   "cell_type": "code",
   "execution_count": 12,
   "id": "002d3cb4",
   "metadata": {
    "execution": {
     "iopub.execute_input": "2023-03-02T09:21:51.409638Z",
     "iopub.status.busy": "2023-03-02T09:21:51.409179Z",
     "iopub.status.idle": "2023-03-02T09:21:51.414431Z",
     "shell.execute_reply": "2023-03-02T09:21:51.413341Z"
    },
    "papermill": {
     "duration": 0.014753,
     "end_time": "2023-03-02T09:21:51.416893",
     "exception": false,
     "start_time": "2023-03-02T09:21:51.402140",
     "status": "completed"
    },
    "tags": []
   },
   "outputs": [],
   "source": [
    "x_test = np.expand_dims(x_test, axis=1)\n",
    "y_test = np.expand_dims(y_test, axis=1)"
   ]
  },
  {
   "cell_type": "code",
   "execution_count": 13,
   "id": "1a5b463a",
   "metadata": {
    "execution": {
     "iopub.execute_input": "2023-03-02T09:21:51.431468Z",
     "iopub.status.busy": "2023-03-02T09:21:51.430289Z",
     "iopub.status.idle": "2023-03-02T09:21:51.439054Z",
     "shell.execute_reply": "2023-03-02T09:21:51.437142Z"
    },
    "papermill": {
     "duration": 0.019144,
     "end_time": "2023-03-02T09:21:51.441858",
     "exception": false,
     "start_time": "2023-03-02T09:21:51.422714",
     "status": "completed"
    },
    "tags": []
   },
   "outputs": [
    {
     "name": "stdout",
     "output_type": "stream",
     "text": [
      "Mean used to scale the test set: 54.99\n",
      "Standard deviation used to scale the test set: 134.59\n",
      "Test MSE: 369.0591068716357\n"
     ]
    }
   ],
   "source": [
    "X_test_scaled = scaler_linear.transform(x_test)\n",
    "print(f\"Mean used to scale the test set: {scaler_linear.mean_.squeeze():.2f}\")\n",
    "print(f\"Standard deviation used to scale the test set: {scaler_linear.scale_.squeeze():.2f}\")\n",
    "\n",
    "yhat = linear_model.predict(X_test_scaled)\n",
    "\n",
    "print(f\"Test MSE: {mean_squared_error(x_test, yhat) / 2}\")"
   ]
  },
  {
   "cell_type": "code",
   "execution_count": 14,
   "id": "f09e4f2f",
   "metadata": {
    "execution": {
     "iopub.execute_input": "2023-03-02T09:21:51.456124Z",
     "iopub.status.busy": "2023-03-02T09:21:51.455145Z",
     "iopub.status.idle": "2023-03-02T09:21:51.462276Z",
     "shell.execute_reply": "2023-03-02T09:21:51.461111Z"
    },
    "papermill": {
     "duration": 0.016233,
     "end_time": "2023-03-02T09:21:51.464560",
     "exception": false,
     "start_time": "2023-03-02T09:21:51.448327",
     "status": "completed"
    },
    "tags": []
   },
   "outputs": [
    {
     "name": "stdout",
     "output_type": "stream",
     "text": [
      "[[  24.  576.]\n",
      " [  50. 2500.]\n",
      " [  15.  225.]\n",
      " [  38. 1444.]\n",
      " [  87. 7569.]]\n"
     ]
    }
   ],
   "source": [
    "# Instantiate the class to make polynomial features\n",
    "poly = PolynomialFeatures(degree=2, include_bias=False)\n",
    "\n",
    "# Compute the number of features and transform the training set\n",
    "X_train_mapped = poly.fit_transform(x_train)\n",
    "\n",
    "# Preview the first 5 elements of the scaled training set.\n",
    "print(X_train_mapped[:5])"
   ]
  },
  {
   "cell_type": "code",
   "execution_count": 15,
   "id": "0c197996",
   "metadata": {
    "execution": {
     "iopub.execute_input": "2023-03-02T09:21:51.478696Z",
     "iopub.status.busy": "2023-03-02T09:21:51.477491Z",
     "iopub.status.idle": "2023-03-02T09:21:51.486511Z",
     "shell.execute_reply": "2023-03-02T09:21:51.484860Z"
    },
    "papermill": {
     "duration": 0.018203,
     "end_time": "2023-03-02T09:21:51.488716",
     "exception": false,
     "start_time": "2023-03-02T09:21:51.470513",
     "status": "completed"
    },
    "tags": []
   },
   "outputs": [
    {
     "name": "stdout",
     "output_type": "stream",
     "text": [
      "[[-0.23023243 -0.04369347]\n",
      " [-0.03704664 -0.03960478]\n",
      " [-0.29710443 -0.04443938]\n",
      " [-0.12620931 -0.04184888]\n",
      " [ 0.2378716  -0.02883267]]\n"
     ]
    }
   ],
   "source": [
    "# Instantiate the class\n",
    "scaler_poly = StandardScaler()\n",
    "\n",
    "# Compute the mean and standard deviation of the training set then transform it\n",
    "X_train_mapped_scaled = scaler_poly.fit_transform(X_train_mapped)\n",
    "\n",
    "# Preview the first 5 elements of the scaled training set.\n",
    "print(X_train_mapped_scaled[:5])"
   ]
  },
  {
   "cell_type": "code",
   "execution_count": 16,
   "id": "d855e7f1",
   "metadata": {
    "execution": {
     "iopub.execute_input": "2023-03-02T09:21:51.502565Z",
     "iopub.status.busy": "2023-03-02T09:21:51.501447Z",
     "iopub.status.idle": "2023-03-02T09:21:51.513799Z",
     "shell.execute_reply": "2023-03-02T09:21:51.512588Z"
    },
    "papermill": {
     "duration": 0.021005,
     "end_time": "2023-03-02T09:21:51.515652",
     "exception": false,
     "start_time": "2023-03-02T09:21:51.494647",
     "status": "completed"
    },
    "tags": []
   },
   "outputs": [
    {
     "name": "stdout",
     "output_type": "stream",
     "text": [
      "Training MSE: 3.923465585688542\n",
      "Test MSE: 4.75205955724442\n"
     ]
    }
   ],
   "source": [
    "# Initialize the class\n",
    "model = LinearRegression()\n",
    "\n",
    "# Train the model\n",
    "model.fit(X_train_mapped_scaled, y_train )\n",
    "\n",
    "# Compute the training MSE\n",
    "yhat_train = model.predict(X_train_mapped_scaled)\n",
    "print(f\"Training MSE: {mean_squared_error(y_train, yhat_train) / 2}\")\n",
    "\n",
    "# Add the polynomial features to the test set\n",
    "X_test_mapped = poly.transform(x_test)\n",
    "\n",
    "# Scale the test set using the mean and standard deviation of the training set\n",
    "X_test_mapped_scaled = scaler_poly.transform(X_test_mapped)\n",
    "\n",
    "# Compute the test MSE\n",
    "yhat_test = model.predict(X_test_mapped_scaled)\n",
    "print(f\"Test MSE: {mean_squared_error(y_test, yhat_test) / 2}\")"
   ]
  },
  {
   "cell_type": "code",
   "execution_count": 17,
   "id": "1e1ca92a",
   "metadata": {
    "execution": {
     "iopub.execute_input": "2023-03-02T09:21:51.530164Z",
     "iopub.status.busy": "2023-03-02T09:21:51.528602Z",
     "iopub.status.idle": "2023-03-02T09:21:51.677732Z",
     "shell.execute_reply": "2023-03-02T09:21:51.676237Z"
    },
    "papermill": {
     "duration": 0.158723,
     "end_time": "2023-03-02T09:21:51.680183",
     "exception": false,
     "start_time": "2023-03-02T09:21:51.521460",
     "status": "completed"
    },
    "tags": []
   },
   "outputs": [
    {
     "data": {
      "text/plain": [
       "[<matplotlib.lines.Line2D at 0x7f0d0d2d2a10>]"
      ]
     },
     "execution_count": 17,
     "metadata": {},
     "output_type": "execute_result"
    },
    {
     "data": {
      "image/png": "[encoded data removed]",
      "text/plain": [
       "<Figure size 432x288 with 1 Axes>"
      ]
     },
     "metadata": {
      "needs_background": "light"
     },
     "output_type": "display_data"
    }
   ],
   "source": [
    "plt.title('Result')\n",
    "plt.scatter(x_test,y_test)\n",
    "plt.xlim(0,120)\n",
    "plt.ylim(0,120)\n",
    "plt.plot(x_test,yhat_test,color='r')"
   ]
  },
  {
   "cell_type": "code",
   "execution_count": null,
   "id": "13c503f0",
   "metadata": {
    "papermill": {
     "duration": 0.005773,
     "end_time": "2023-03-02T09:21:51.692901",
     "exception": false,
     "start_time": "2023-03-02T09:21:51.687128",
     "status": "completed"
    },
    "tags": []
   },
   "outputs": [],
   "source": []
  }
 ],
 "metadata": {
  "kernelspec": {
   "display_name": "Python 3",
   "language": "python",
   "name": "python3"
  },
  "language_info": {
   "codemirror_mode": {
    "name": "ipython",
    "version": 3
   },
   "file_extension": ".py",
   "mimetype": "text/x-python",
   "name": "python",
   "nbconvert_exporter": "python",
   "pygments_lexer": "ipython3",
   "version": "3.7.12"
  },
  "papermill": {
   "default_parameters": {},
   "duration": 12.149744,
   "end_time": "2023-03-02T09:21:52.520923",
   "environment_variables": {},
   "exception": null,
   "input_path": "__notebook__.ipynb",
   "output_path": "__notebook__.ipynb",
   "parameters": {},
   "start_time": "2023-03-02T09:21:40.371179",
   "version": "2.3.4"
  }
 },
 "nbformat": 4,
 "nbformat_minor": 5
}
